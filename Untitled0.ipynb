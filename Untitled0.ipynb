{
  "nbformat": 4,
  "nbformat_minor": 0,
  "metadata": {
    "colab": {
      "provenance": [],
      "authorship_tag": "ABX9TyPPa7JwUkdn7OiILYc2wzeV",
      "include_colab_link": true
    },
    "kernelspec": {
      "name": "python3",
      "display_name": "Python 3"
    },
    "language_info": {
      "name": "python"
    }
  },
  "cells": [
    {
      "cell_type": "markdown",
      "metadata": {
        "id": "view-in-github",
        "colab_type": "text"
      },
      "source": [
        "<a href=\"https://colab.research.google.com/github/kaybim33/Abimbola/blob/master/Untitled0.ipynb\" target=\"_parent\"><img src=\"https://colab.research.google.com/assets/colab-badge.svg\" alt=\"Open In Colab\"/></a>"
      ]
    },
    {
      "cell_type": "code",
      "execution_count": null,
      "metadata": {
        "id": "-l7vq1nl0mML"
      },
      "outputs": [],
      "source": []
    },
    {
      "cell_type": "code",
      "source": [
        "# Dictionary to store previously calculated results (memoization)\n",
        "factorial_memo = {}\n",
        "\n",
        "# Function to calculate factorial using memoization (optimization)\n",
        "def factorial(n):\n",
        "    # Base case\n",
        "    if n == 0 or n == 1:\n",
        "        return 1\n",
        "\n",
        "    # Check if the result is already in the memo dictionary\n",
        "    if n in factorial_memo:\n",
        "        return factorial_memo[n]\n",
        "\n",
        "    # Calculate factorial and store the result in the dictionary for future use\n",
        "    result = n * factorial(n - 1)\n",
        "    factorial_memo[n] = result\n",
        "\n",
        "    return result\n",
        "\n",
        "# Input from the user\n",
        "n = int(input(\"Enter a number to calculate its factorial: \"))\n",
        "\n",
        "# Calculate and print the factorial\n",
        "print(f\"The factorial of {n} is: {factorial(n)}\")"
      ],
      "metadata": {
        "id": "8xBTImiK0uP4"
      },
      "execution_count": null,
      "outputs": []
    }
  ]
}